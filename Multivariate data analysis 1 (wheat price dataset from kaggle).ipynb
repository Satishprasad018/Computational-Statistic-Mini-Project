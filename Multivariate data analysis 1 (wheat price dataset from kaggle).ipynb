{
 "cells": [
  {
   "cell_type": "code",
   "execution_count": 19,
   "id": "49c08fb5",
   "metadata": {},
   "outputs": [],
   "source": [
    "import numpy as np\n",
    "import pandas as pd\n",
    "import matplotlib.pyplot as plt"
   ]
  },
  {
   "cell_type": "code",
   "execution_count": 6,
   "id": "db6815c1",
   "metadata": {},
   "outputs": [
    {
     "data": {
      "text/html": [
       "<div>\n",
       "<style scoped>\n",
       "    .dataframe tbody tr th:only-of-type {\n",
       "        vertical-align: middle;\n",
       "    }\n",
       "\n",
       "    .dataframe tbody tr th {\n",
       "        vertical-align: top;\n",
       "    }\n",
       "\n",
       "    .dataframe thead th {\n",
       "        text-align: right;\n",
       "    }\n",
       "</style>\n",
       "<table border=\"1\" class=\"dataframe\">\n",
       "  <thead>\n",
       "    <tr style=\"text-align: right;\">\n",
       "      <th></th>\n",
       "      <th>date</th>\n",
       "      <th>open</th>\n",
       "      <th>high</th>\n",
       "      <th>low</th>\n",
       "      <th>close</th>\n",
       "    </tr>\n",
       "  </thead>\n",
       "  <tbody>\n",
       "    <tr>\n",
       "      <th>0</th>\n",
       "      <td>2018-03-12</td>\n",
       "      <td>488.50</td>\n",
       "      <td>492.75</td>\n",
       "      <td>483.00</td>\n",
       "      <td>490.00</td>\n",
       "    </tr>\n",
       "    <tr>\n",
       "      <th>1</th>\n",
       "      <td>2018-03-09</td>\n",
       "      <td>499.25</td>\n",
       "      <td>499.25</td>\n",
       "      <td>486.00</td>\n",
       "      <td>490.25</td>\n",
       "    </tr>\n",
       "    <tr>\n",
       "      <th>2</th>\n",
       "      <td>2018-03-08</td>\n",
       "      <td>497.50</td>\n",
       "      <td>502.50</td>\n",
       "      <td>490.25</td>\n",
       "      <td>499.25</td>\n",
       "    </tr>\n",
       "    <tr>\n",
       "      <th>3</th>\n",
       "      <td>2018-03-07</td>\n",
       "      <td>506.00</td>\n",
       "      <td>509.75</td>\n",
       "      <td>496.00</td>\n",
       "      <td>497.50</td>\n",
       "    </tr>\n",
       "    <tr>\n",
       "      <th>4</th>\n",
       "      <td>2018-03-06</td>\n",
       "      <td>507.00</td>\n",
       "      <td>507.50</td>\n",
       "      <td>495.50</td>\n",
       "      <td>506.00</td>\n",
       "    </tr>\n",
       "    <tr>\n",
       "      <th>5</th>\n",
       "      <td>2018-03-05</td>\n",
       "      <td>507.75</td>\n",
       "      <td>510.25</td>\n",
       "      <td>495.25</td>\n",
       "      <td>507.00</td>\n",
       "    </tr>\n",
       "    <tr>\n",
       "      <th>6</th>\n",
       "      <td>2018-03-02</td>\n",
       "      <td>516.00</td>\n",
       "      <td>518.50</td>\n",
       "      <td>493.25</td>\n",
       "      <td>499.00</td>\n",
       "    </tr>\n",
       "    <tr>\n",
       "      <th>7</th>\n",
       "      <td>2018-03-01</td>\n",
       "      <td>495.50</td>\n",
       "      <td>517.75</td>\n",
       "      <td>489.50</td>\n",
       "      <td>516.00</td>\n",
       "    </tr>\n",
       "    <tr>\n",
       "      <th>8</th>\n",
       "      <td>2018-02-28</td>\n",
       "      <td>477.50</td>\n",
       "      <td>499.50</td>\n",
       "      <td>476.50</td>\n",
       "      <td>492.50</td>\n",
       "    </tr>\n",
       "    <tr>\n",
       "      <th>9</th>\n",
       "      <td>2018-02-27</td>\n",
       "      <td>473.75</td>\n",
       "      <td>479.00</td>\n",
       "      <td>473.50</td>\n",
       "      <td>477.50</td>\n",
       "    </tr>\n",
       "  </tbody>\n",
       "</table>\n",
       "</div>"
      ],
      "text/plain": [
       "         date    open    high     low   close\n",
       "0  2018-03-12  488.50  492.75  483.00  490.00\n",
       "1  2018-03-09  499.25  499.25  486.00  490.25\n",
       "2  2018-03-08  497.50  502.50  490.25  499.25\n",
       "3  2018-03-07  506.00  509.75  496.00  497.50\n",
       "4  2018-03-06  507.00  507.50  495.50  506.00\n",
       "5  2018-03-05  507.75  510.25  495.25  507.00\n",
       "6  2018-03-02  516.00  518.50  493.25  499.00\n",
       "7  2018-03-01  495.50  517.75  489.50  516.00\n",
       "8  2018-02-28  477.50  499.50  476.50  492.50\n",
       "9  2018-02-27  473.75  479.00  473.50  477.50"
      ]
     },
     "execution_count": 6,
     "metadata": {},
     "output_type": "execute_result"
    }
   ],
   "source": [
    "data = pd.read_csv('Daily_wheat_price.csv')\n",
    "data.head(10)"
   ]
  },
  {
   "cell_type": "code",
   "execution_count": 7,
   "id": "db031fd8",
   "metadata": {},
   "outputs": [],
   "source": [
    "x=data.high\n",
    "y=data.low"
   ]
  },
  {
   "cell_type": "code",
   "execution_count": 8,
   "id": "90a7f7a2",
   "metadata": {},
   "outputs": [
    {
     "name": "stdout",
     "output_type": "stream",
     "text": [
      "Statistics for x\n",
      "\n",
      "Average 600.8357174295775\n",
      "\n",
      "Mean:  600.8357174295611\n",
      "\n",
      "std(1):  137.3305814927236\n",
      "std(2):  137.3305814927236\n",
      "\n",
      "variance(1):  18859.688613129598\n",
      "variance(2):  18859.688613129598\n"
     ]
    }
   ],
   "source": [
    "print(\"Statistics for x\")\n",
    "\n",
    "r1 = np.average(x)\n",
    "print(\"\\nAverage\",r1)\n",
    "\n",
    "r2 = np.mean(x)\n",
    "print(\"\\nMean: \", r2)\n",
    "\n",
    "r3_1 = np.std(x)\n",
    "r3_2 = np.sqrt(np.mean((x - np.mean(x)) ** 2 ))\n",
    "print(\"\\nstd(1): \", r3_1)\n",
    "print(\"std(2): \", r3_2)\n",
    "\n",
    "r4_1= np.var(x)\n",
    "r4_2 = np.mean((x - np.mean(x)) ** 2 )\n",
    "print(\"\\nvariance(1): \", r4_1)\n",
    "print(\"variance(2): \", r4_2)"
   ]
  },
  {
   "cell_type": "code",
   "execution_count": 9,
   "id": "96f49f5e",
   "metadata": {},
   "outputs": [
    {
     "name": "stdout",
     "output_type": "stream",
     "text": [
      "Statistics for y\n",
      "\n",
      "Average 585.9050572183098\n",
      "\n",
      "Mean:  585.9050572182958\n",
      "\n",
      "std(1):  133.10668406565637\n",
      "std(2):  133.10668406565637\n",
      "\n",
      "variance(1):  17717.38934295446\n",
      "variance(2):  17717.38934295446\n"
     ]
    }
   ],
   "source": [
    "print(\"Statistics for y\")\n",
    "\n",
    "r1 = np.average(y)\n",
    "print(\"\\nAverage\",r1)\n",
    "\n",
    "r2 = np.mean(y)\n",
    "print(\"\\nMean: \", r2)\n",
    "\n",
    "r3_1 = np.std(y)\n",
    "r3_2 = np.sqrt(np.mean((y - np.mean(y)) ** 2 ))\n",
    "print(\"\\nstd(1): \", r3_1)\n",
    "print(\"std(2): \", r3_2)\n",
    "\n",
    "r4_1= np.var(y)\n",
    "r4_2 = np.mean((y - np.mean(y)) ** 2 )\n",
    "print(\"\\nvariance(1): \", r4_1)\n",
    "print(\"variance(2): \", r4_2)"
   ]
  },
  {
   "cell_type": "code",
   "execution_count": 16,
   "id": "553a84d3",
   "metadata": {},
   "outputs": [
    {
     "name": "stdout",
     "output_type": "stream",
     "text": [
      "\n",
      "Original array(X):\n",
      "0       492.75\n",
      "1       499.25\n",
      "2       502.50\n",
      "3       509.75\n",
      "4       507.50\n",
      "         ...  \n",
      "2267    522.63\n",
      "2268    497.50\n",
      "2269    506.63\n",
      "2270    513.63\n",
      "2271    528.50\n",
      "Name: high, Length: 2272, dtype: float64\n",
      "\n",
      "Original array(Y):\n",
      "0       483.00\n",
      "1       486.00\n",
      "2       490.25\n",
      "3       496.00\n",
      "4       495.50\n",
      "         ...  \n",
      "2267    497.50\n",
      "2268    497.50\n",
      "2269    495.63\n",
      "2270    496.50\n",
      "2271    505.13\n",
      "Name: low, Length: 2272, dtype: float64\n",
      "\n",
      "Covariance matrix of the said arrays:\n",
      " [[18867.9931876  18247.78935998]\n",
      " [18247.78935998 17725.19092347]]\n"
     ]
    }
   ],
   "source": [
    "print(\"\\nOriginal array(X):\")\n",
    "print(x)\n",
    "print(\"\\nOriginal array(Y):\")\n",
    "print(y)\n",
    "print(\"\\nCovariance matrix of the said arrays:\\n\",np.cov(x, y))\n"
   ]
  },
  {
   "cell_type": "code",
   "execution_count": 17,
   "id": "fcca5032",
   "metadata": {},
   "outputs": [
    {
     "name": "stdout",
     "output_type": "stream",
     "text": [
      "\n",
      "Pearson product-moment correlation coefficients of the said arrays:\n",
      " [[1. 1.]\n",
      " [1. 1.]]\n"
     ]
    }
   ],
   "source": [
    "corrs = np.corrcoef(x, y).round(2)\n",
    "print(\"\\nPearson product-moment correlation coefficients of the said arrays:\\n\",corrs)"
   ]
  },
  {
   "cell_type": "code",
   "execution_count": 24,
   "id": "79339500",
   "metadata": {},
   "outputs": [
    {
     "data": {
      "text/plain": [
       "(array([[266., 397., 368., 180., 291., 301., 183., 122., 103.,  61.],\n",
       "        [322., 450., 300., 192., 333., 290., 160.,  83., 128.,  14.]]),\n",
       " array([381.25 , 437.575, 493.9  , 550.225, 606.55 , 662.875, 719.2  ,\n",
       "        775.525, 831.85 , 888.175, 944.5  ]),\n",
       " <a list of 2 BarContainer objects>)"
      ]
     },
     "execution_count": 24,
     "metadata": {},
     "output_type": "execute_result"
    },
    {
     "data": {
      "image/png": "[encoded data removed]",
      "text/plain": [
       "<Figure size 640x480 with 1 Axes>"
      ]
     },
     "metadata": {},
     "output_type": "display_data"
    }
   ],
   "source": [
    "plt.hist([x,y])"
   ]
  },
  {
   "cell_type": "code",
   "execution_count": 25,
   "id": "45c4fcfd",
   "metadata": {},
   "outputs": [
    {
     "data": {
      "text/plain": [
       "<function matplotlib.pyplot.show(close=None, block=None)>"
      ]
     },
     "execution_count": 25,
     "metadata": {},
     "output_type": "execute_result"
    },
    {
     "data": {
      "image/png": "[encoded data removed]",
      "text/plain": [
       "<Figure size 640x480 with 1 Axes>"
      ]
     },
     "metadata": {},
     "output_type": "display_data"
    }
   ],
   "source": [
    "plt.boxplot([x,y])\n",
    "plt.show"
   ]
  },
  {
   "cell_type": "code",
   "execution_count": null,
   "id": "e1d181de",
   "metadata": {},
   "outputs": [],
   "source": []
  }
 ],
 "metadata": {
  "kernelspec": {
   "display_name": "Python 3 (ipykernel)",
   "language": "python",
   "name": "python3"
  },
  "language_info": {
   "codemirror_mode": {
    "name": "ipython",
    "version": 3
   },
   "file_extension": ".py",
   "mimetype": "text/x-python",
   "name": "python",
   "nbconvert_exporter": "python",
   "pygments_lexer": "ipython3",
   "version": "3.9.13"
  }
 },
 "nbformat": 4,
 "nbformat_minor": 5
}
