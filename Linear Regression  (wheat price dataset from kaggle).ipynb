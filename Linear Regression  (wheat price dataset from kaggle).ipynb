{
 "cells": [
  {
   "cell_type": "code",
   "execution_count": 12,
   "id": "877d655f",
   "metadata": {},
   "outputs": [],
   "source": [
    "import numpy as np\n",
    "import pandas as pd\n",
    "import os\n",
    "import seaborn as sns\n",
    "import matplotlib.pyplot as plt\n",
    "import sklearn.linear_model as lm\n",
    "import statsmodels.api as sms"
   ]
  },
  {
   "cell_type": "code",
   "execution_count": 2,
   "id": "9263a4c0",
   "metadata": {},
   "outputs": [
    {
     "data": {
      "text/html": [
       "<div>\n",
       "<style scoped>\n",
       "    .dataframe tbody tr th:only-of-type {\n",
       "        vertical-align: middle;\n",
       "    }\n",
       "\n",
       "    .dataframe tbody tr th {\n",
       "        vertical-align: top;\n",
       "    }\n",
       "\n",
       "    .dataframe thead th {\n",
       "        text-align: right;\n",
       "    }\n",
       "</style>\n",
       "<table border=\"1\" class=\"dataframe\">\n",
       "  <thead>\n",
       "    <tr style=\"text-align: right;\">\n",
       "      <th></th>\n",
       "      <th>date</th>\n",
       "      <th>open</th>\n",
       "      <th>high</th>\n",
       "      <th>low</th>\n",
       "      <th>close</th>\n",
       "    </tr>\n",
       "  </thead>\n",
       "  <tbody>\n",
       "    <tr>\n",
       "      <th>0</th>\n",
       "      <td>2018-03-12</td>\n",
       "      <td>488.50</td>\n",
       "      <td>492.75</td>\n",
       "      <td>483.00</td>\n",
       "      <td>490.00</td>\n",
       "    </tr>\n",
       "    <tr>\n",
       "      <th>1</th>\n",
       "      <td>2018-03-09</td>\n",
       "      <td>499.25</td>\n",
       "      <td>499.25</td>\n",
       "      <td>486.00</td>\n",
       "      <td>490.25</td>\n",
       "    </tr>\n",
       "    <tr>\n",
       "      <th>2</th>\n",
       "      <td>2018-03-08</td>\n",
       "      <td>497.50</td>\n",
       "      <td>502.50</td>\n",
       "      <td>490.25</td>\n",
       "      <td>499.25</td>\n",
       "    </tr>\n",
       "    <tr>\n",
       "      <th>3</th>\n",
       "      <td>2018-03-07</td>\n",
       "      <td>506.00</td>\n",
       "      <td>509.75</td>\n",
       "      <td>496.00</td>\n",
       "      <td>497.50</td>\n",
       "    </tr>\n",
       "    <tr>\n",
       "      <th>4</th>\n",
       "      <td>2018-03-06</td>\n",
       "      <td>507.00</td>\n",
       "      <td>507.50</td>\n",
       "      <td>495.50</td>\n",
       "      <td>506.00</td>\n",
       "    </tr>\n",
       "    <tr>\n",
       "      <th>5</th>\n",
       "      <td>2018-03-05</td>\n",
       "      <td>507.75</td>\n",
       "      <td>510.25</td>\n",
       "      <td>495.25</td>\n",
       "      <td>507.00</td>\n",
       "    </tr>\n",
       "    <tr>\n",
       "      <th>6</th>\n",
       "      <td>2018-03-02</td>\n",
       "      <td>516.00</td>\n",
       "      <td>518.50</td>\n",
       "      <td>493.25</td>\n",
       "      <td>499.00</td>\n",
       "    </tr>\n",
       "    <tr>\n",
       "      <th>7</th>\n",
       "      <td>2018-03-01</td>\n",
       "      <td>495.50</td>\n",
       "      <td>517.75</td>\n",
       "      <td>489.50</td>\n",
       "      <td>516.00</td>\n",
       "    </tr>\n",
       "    <tr>\n",
       "      <th>8</th>\n",
       "      <td>2018-02-28</td>\n",
       "      <td>477.50</td>\n",
       "      <td>499.50</td>\n",
       "      <td>476.50</td>\n",
       "      <td>492.50</td>\n",
       "    </tr>\n",
       "    <tr>\n",
       "      <th>9</th>\n",
       "      <td>2018-02-27</td>\n",
       "      <td>473.75</td>\n",
       "      <td>479.00</td>\n",
       "      <td>473.50</td>\n",
       "      <td>477.50</td>\n",
       "    </tr>\n",
       "  </tbody>\n",
       "</table>\n",
       "</div>"
      ],
      "text/plain": [
       "         date    open    high     low   close\n",
       "0  2018-03-12  488.50  492.75  483.00  490.00\n",
       "1  2018-03-09  499.25  499.25  486.00  490.25\n",
       "2  2018-03-08  497.50  502.50  490.25  499.25\n",
       "3  2018-03-07  506.00  509.75  496.00  497.50\n",
       "4  2018-03-06  507.00  507.50  495.50  506.00\n",
       "5  2018-03-05  507.75  510.25  495.25  507.00\n",
       "6  2018-03-02  516.00  518.50  493.25  499.00\n",
       "7  2018-03-01  495.50  517.75  489.50  516.00\n",
       "8  2018-02-28  477.50  499.50  476.50  492.50\n",
       "9  2018-02-27  473.75  479.00  473.50  477.50"
      ]
     },
     "execution_count": 2,
     "metadata": {},
     "output_type": "execute_result"
    }
   ],
   "source": [
    "data=pd.read_csv('Daily_wheat_price.csv')\n",
    "data.head(10)"
   ]
  },
  {
   "cell_type": "code",
   "execution_count": 3,
   "id": "0267bda2",
   "metadata": {},
   "outputs": [
    {
     "data": {
      "text/plain": [
       "date      object\n",
       "open     float64\n",
       "high     float64\n",
       "low      float64\n",
       "close    float64\n",
       "dtype: object"
      ]
     },
     "execution_count": 3,
     "metadata": {},
     "output_type": "execute_result"
    }
   ],
   "source": [
    "data.dtypes"
   ]
  },
  {
   "cell_type": "code",
   "execution_count": 4,
   "id": "41047182",
   "metadata": {},
   "outputs": [
    {
     "data": {
      "text/plain": [
       "date     2272\n",
       "open     2272\n",
       "high     2272\n",
       "low      2272\n",
       "close    2272\n",
       "dtype: int64"
      ]
     },
     "execution_count": 4,
     "metadata": {},
     "output_type": "execute_result"
    }
   ],
   "source": [
    "data.count()"
   ]
  },
  {
   "cell_type": "code",
   "execution_count": 9,
   "id": "c0cb8e7c",
   "metadata": {},
   "outputs": [
    {
     "name": "stdout",
     "output_type": "stream",
     "text": [
      "coefficient of determination: 0.9956435522824418\n",
      "intercept: [4.81922034]\n",
      "slope: [[0.96712932]]\n",
      "Predicted response:\n",
      "[[481.37219117]\n",
      " [487.65853173]\n",
      " [490.80170201]\n",
      " ...\n",
      " [494.79594609]\n",
      " [501.5658513 ]\n",
      " [515.94706424]]\n"
     ]
    }
   ],
   "source": [
    "x=np.array(data['high']).reshape(-1,1)\n",
    "y=np.array(data['low']).reshape(-1,1)\n",
    "LR=lm.LinearRegression().fit(x,y)\n",
    "cd = LR.score(x, y)\n",
    "print('coefficient of determination:', cd)\n",
    "print('intercept:', LR.intercept_)\n",
    "print('slope:', LR.coef_) \n",
    "ycap = LR.predict(x)\n",
    "print('Predicted response:', ycap, sep='\\n')"
   ]
  },
  {
   "cell_type": "code",
   "execution_count": 11,
   "id": "0dd8a7a2",
   "metadata": {},
   "outputs": [],
   "source": [
    "a = pd.DataFrame(data['high'])\n",
    "b = pd.DataFrame(data['low'])"
   ]
  },
  {
   "cell_type": "code",
   "execution_count": 13,
   "id": "c5589cea",
   "metadata": {},
   "outputs": [
    {
     "data": {
      "text/html": [
       "<table class=\"simpletable\">\n",
       "<caption>OLS Regression Results</caption>\n",
       "<tr>\n",
       "  <th>Dep. Variable:</th>           <td>low</td>       <th>  R-squared (uncentered):</th>      <td>   1.000</td> \n",
       "</tr>\n",
       "<tr>\n",
       "  <th>Model:</th>                   <td>OLS</td>       <th>  Adj. R-squared (uncentered):</th> <td>   1.000</td> \n",
       "</tr>\n",
       "<tr>\n",
       "  <th>Method:</th>             <td>Least Squares</td>  <th>  F-statistic:       </th>          <td>1.046e+07</td>\n",
       "</tr>\n",
       "<tr>\n",
       "  <th>Date:</th>             <td>Tue, 27 Dec 2022</td> <th>  Prob (F-statistic):</th>           <td>  0.00</td>  \n",
       "</tr>\n",
       "<tr>\n",
       "  <th>Time:</th>                 <td>19:17:06</td>     <th>  Log-Likelihood:    </th>          <td> -8178.0</td> \n",
       "</tr>\n",
       "<tr>\n",
       "  <th>No. Observations:</th>      <td>  2272</td>      <th>  AIC:               </th>          <td>1.636e+04</td>\n",
       "</tr>\n",
       "<tr>\n",
       "  <th>Df Residuals:</th>          <td>  2271</td>      <th>  BIC:               </th>          <td>1.636e+04</td>\n",
       "</tr>\n",
       "<tr>\n",
       "  <th>Df Model:</th>              <td>     1</td>      <th>                     </th>              <td> </td>    \n",
       "</tr>\n",
       "<tr>\n",
       "  <th>Covariance Type:</th>      <td>nonrobust</td>    <th>                     </th>              <td> </td>    \n",
       "</tr>\n",
       "</table>\n",
       "<table class=\"simpletable\">\n",
       "<tr>\n",
       "    <td></td>      <th>coef</th>     <th>std err</th>      <th>t</th>      <th>P>|t|</th>  <th>[0.025</th>    <th>0.975]</th>  \n",
       "</tr>\n",
       "<tr>\n",
       "  <th>high</th> <td>    0.9748</td> <td>    0.000</td> <td> 3234.671</td> <td> 0.000</td> <td>    0.974</td> <td>    0.975</td>\n",
       "</tr>\n",
       "</table>\n",
       "<table class=\"simpletable\">\n",
       "<tr>\n",
       "  <th>Omnibus:</th>       <td>1296.717</td> <th>  Durbin-Watson:     </th> <td>   1.427</td> \n",
       "</tr>\n",
       "<tr>\n",
       "  <th>Prob(Omnibus):</th>  <td> 0.000</td>  <th>  Jarque-Bera (JB):  </th> <td>20235.806</td>\n",
       "</tr>\n",
       "<tr>\n",
       "  <th>Skew:</th>           <td>-2.367</td>  <th>  Prob(JB):          </th> <td>    0.00</td> \n",
       "</tr>\n",
       "<tr>\n",
       "  <th>Kurtosis:</th>       <td>16.833</td>  <th>  Cond. No.          </th> <td>    1.00</td> \n",
       "</tr>\n",
       "</table><br/><br/>Notes:<br/>[1] R² is computed without centering (uncentered) since the model does not contain a constant.<br/>[2] Standard Errors assume that the covariance matrix of the errors is correctly specified."
      ],
      "text/plain": [
       "<class 'statsmodels.iolib.summary.Summary'>\n",
       "\"\"\"\n",
       "                                 OLS Regression Results                                \n",
       "=======================================================================================\n",
       "Dep. Variable:                    low   R-squared (uncentered):                   1.000\n",
       "Model:                            OLS   Adj. R-squared (uncentered):              1.000\n",
       "Method:                 Least Squares   F-statistic:                          1.046e+07\n",
       "Date:                Tue, 27 Dec 2022   Prob (F-statistic):                        0.00\n",
       "Time:                        19:17:06   Log-Likelihood:                         -8178.0\n",
       "No. Observations:                2272   AIC:                                  1.636e+04\n",
       "Df Residuals:                    2271   BIC:                                  1.636e+04\n",
       "Df Model:                           1                                                  \n",
       "Covariance Type:            nonrobust                                                  \n",
       "==============================================================================\n",
       "                 coef    std err          t      P>|t|      [0.025      0.975]\n",
       "------------------------------------------------------------------------------\n",
       "high           0.9748      0.000   3234.671      0.000       0.974       0.975\n",
       "==============================================================================\n",
       "Omnibus:                     1296.717   Durbin-Watson:                   1.427\n",
       "Prob(Omnibus):                  0.000   Jarque-Bera (JB):            20235.806\n",
       "Skew:                          -2.367   Prob(JB):                         0.00\n",
       "Kurtosis:                      16.833   Cond. No.                         1.00\n",
       "==============================================================================\n",
       "\n",
       "Notes:\n",
       "[1] R² is computed without centering (uncentered) since the model does not contain a constant.\n",
       "[2] Standard Errors assume that the covariance matrix of the errors is correctly specified.\n",
       "\"\"\""
      ]
     },
     "execution_count": 13,
     "metadata": {},
     "output_type": "execute_result"
    }
   ],
   "source": [
    "M = sms.OLS(b,a).fit()\n",
    "M.summary()"
   ]
  },
  {
   "cell_type": "code",
   "execution_count": 14,
   "id": "5bd22426",
   "metadata": {},
   "outputs": [
    {
     "data": {
      "text/plain": [
       "<AxesSubplot:>"
      ]
     },
     "execution_count": 14,
     "metadata": {},
     "output_type": "execute_result"
    },
    {
     "data": {
      "image/png": "[encoded data removed]",
      "text/plain": [
       "<Figure size 640x480 with 2 Axes>"
      ]
     },
     "metadata": {},
     "output_type": "display_data"
    }
   ],
   "source": [
    "sns.heatmap(data.corr(), annot=True, cmap='viridis')"
   ]
  },
  {
   "cell_type": "code",
   "execution_count": 16,
   "id": "effb013e",
   "metadata": {},
   "outputs": [
    {
     "name": "stderr",
     "output_type": "stream",
     "text": [
      "C:\\ProgramData\\Anaconda3\\lib\\site-packages\\seaborn\\_decorators.py:36: FutureWarning: Pass the following variable as a keyword arg: x. From version 0.12, the only valid positional argument will be `data`, and passing other arguments without an explicit keyword will result in an error or misinterpretation.\n",
      "  warnings.warn(\n"
     ]
    },
    {
     "data": {
      "text/plain": [
       "<AxesSubplot:xlabel='high', ylabel='count'>"
      ]
     },
     "execution_count": 16,
     "metadata": {},
     "output_type": "execute_result"
    },
    {
     "data": {
      "image/png": "[encoded data removed]",
      "text/plain": [
       "<Figure size 640x480 with 1 Axes>"
      ]
     },
     "metadata": {},
     "output_type": "display_data"
    }
   ],
   "source": [
    "sns.countplot(data.high)"
   ]
  },
  {
   "cell_type": "code",
   "execution_count": 17,
   "id": "c703c64a",
   "metadata": {},
   "outputs": [
    {
     "data": {
      "text/plain": [
       "<AxesSubplot:xlabel='high', ylabel='low'>"
      ]
     },
     "execution_count": 17,
     "metadata": {},
     "output_type": "execute_result"
    },
    {
     "data": {
      "image/png": "[encoded data removed]",
      "text/plain": [
       "<Figure size 700x600 with 1 Axes>"
      ]
     },
     "metadata": {},
     "output_type": "display_data"
    }
   ],
   "source": [
    "plt.figure(figsize=(7,6))\n",
    "sns.boxplot(x='high', y='low', data=data)"
   ]
  }
 ],
 "metadata": {
  "kernelspec": {
   "display_name": "Python 3 (ipykernel)",
   "language": "python",
   "name": "python3"
  },
  "language_info": {
   "codemirror_mode": {
    "name": "ipython",
    "version": 3
   },
   "file_extension": ".py",
   "mimetype": "text/x-python",
   "name": "python",
   "nbconvert_exporter": "python",
   "pygments_lexer": "ipython3",
   "version": "3.9.13"
  }
 },
 "nbformat": 4,
 "nbformat_minor": 5
}
