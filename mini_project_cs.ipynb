{
 "cells": [
  {
   "cell_type": "markdown",
   "id": "1b60a0e8",
   "metadata": {},
   "source": [
    "# Roll No : RBT21CB018\n",
    "# Name : SATISH PRASAD"
   ]
  },
  {
   "cell_type": "markdown",
   "id": "2f5b3131",
   "metadata": {},
   "source": [
    "# PRINCIPAL COMPONENT ANALYSIS"
   ]
  },
  {
   "cell_type": "code",
   "execution_count": 2,
   "id": "9af81433",
   "metadata": {},
   "outputs": [],
   "source": [
    "import pandas as pd\n",
    "import numpy as np\n",
    "from sklearn.decomposition import PCA \n",
    "from sklearn.preprocessing import StandardScaler \n",
    "import matplotlib.pyplot as plt "
   ]
  },
  {
   "cell_type": "code",
   "execution_count": 3,
   "id": "4d24ed7c",
   "metadata": {},
   "outputs": [
    {
     "data": {
      "text/html": [
       "<div>\n",
       "<style scoped>\n",
       "    .dataframe tbody tr th:only-of-type {\n",
       "        vertical-align: middle;\n",
       "    }\n",
       "\n",
       "    .dataframe tbody tr th {\n",
       "        vertical-align: top;\n",
       "    }\n",
       "\n",
       "    .dataframe thead th {\n",
       "        text-align: right;\n",
       "    }\n",
       "</style>\n",
       "<table border=\"1\" class=\"dataframe\">\n",
       "  <thead>\n",
       "    <tr style=\"text-align: right;\">\n",
       "      <th></th>\n",
       "      <th>date</th>\n",
       "      <th>open</th>\n",
       "      <th>high</th>\n",
       "      <th>low</th>\n",
       "      <th>close</th>\n",
       "    </tr>\n",
       "  </thead>\n",
       "  <tbody>\n",
       "    <tr>\n",
       "      <th>0</th>\n",
       "      <td>2018-03-12</td>\n",
       "      <td>488.50</td>\n",
       "      <td>492.75</td>\n",
       "      <td>483.00</td>\n",
       "      <td>490.00</td>\n",
       "    </tr>\n",
       "    <tr>\n",
       "      <th>1</th>\n",
       "      <td>2018-03-09</td>\n",
       "      <td>499.25</td>\n",
       "      <td>499.25</td>\n",
       "      <td>486.00</td>\n",
       "      <td>490.25</td>\n",
       "    </tr>\n",
       "    <tr>\n",
       "      <th>2</th>\n",
       "      <td>2018-03-08</td>\n",
       "      <td>497.50</td>\n",
       "      <td>502.50</td>\n",
       "      <td>490.25</td>\n",
       "      <td>499.25</td>\n",
       "    </tr>\n",
       "    <tr>\n",
       "      <th>3</th>\n",
       "      <td>2018-03-07</td>\n",
       "      <td>506.00</td>\n",
       "      <td>509.75</td>\n",
       "      <td>496.00</td>\n",
       "      <td>497.50</td>\n",
       "    </tr>\n",
       "    <tr>\n",
       "      <th>4</th>\n",
       "      <td>2018-03-06</td>\n",
       "      <td>507.00</td>\n",
       "      <td>507.50</td>\n",
       "      <td>495.50</td>\n",
       "      <td>506.00</td>\n",
       "    </tr>\n",
       "    <tr>\n",
       "      <th>...</th>\n",
       "      <td>...</td>\n",
       "      <td>...</td>\n",
       "      <td>...</td>\n",
       "      <td>...</td>\n",
       "      <td>...</td>\n",
       "    </tr>\n",
       "    <tr>\n",
       "      <th>2267</th>\n",
       "      <td>2009-10-19</td>\n",
       "      <td>497.50</td>\n",
       "      <td>522.63</td>\n",
       "      <td>497.50</td>\n",
       "      <td>517.50</td>\n",
       "    </tr>\n",
       "    <tr>\n",
       "      <th>2268</th>\n",
       "      <td>2009-10-18</td>\n",
       "      <td>497.50</td>\n",
       "      <td>497.50</td>\n",
       "      <td>497.50</td>\n",
       "      <td>497.50</td>\n",
       "    </tr>\n",
       "    <tr>\n",
       "      <th>2269</th>\n",
       "      <td>2009-10-16</td>\n",
       "      <td>505.38</td>\n",
       "      <td>506.63</td>\n",
       "      <td>495.63</td>\n",
       "      <td>497.75</td>\n",
       "    </tr>\n",
       "    <tr>\n",
       "      <th>2270</th>\n",
       "      <td>2009-10-15</td>\n",
       "      <td>513.50</td>\n",
       "      <td>513.63</td>\n",
       "      <td>496.50</td>\n",
       "      <td>505.38</td>\n",
       "    </tr>\n",
       "    <tr>\n",
       "      <th>2271</th>\n",
       "      <td>2009-10-14</td>\n",
       "      <td>512.88</td>\n",
       "      <td>528.50</td>\n",
       "      <td>505.13</td>\n",
       "      <td>513.50</td>\n",
       "    </tr>\n",
       "  </tbody>\n",
       "</table>\n",
       "<p>2272 rows × 5 columns</p>\n",
       "</div>"
      ],
      "text/plain": [
       "            date    open    high     low   close\n",
       "0     2018-03-12  488.50  492.75  483.00  490.00\n",
       "1     2018-03-09  499.25  499.25  486.00  490.25\n",
       "2     2018-03-08  497.50  502.50  490.25  499.25\n",
       "3     2018-03-07  506.00  509.75  496.00  497.50\n",
       "4     2018-03-06  507.00  507.50  495.50  506.00\n",
       "...          ...     ...     ...     ...     ...\n",
       "2267  2009-10-19  497.50  522.63  497.50  517.50\n",
       "2268  2009-10-18  497.50  497.50  497.50  497.50\n",
       "2269  2009-10-16  505.38  506.63  495.63  497.75\n",
       "2270  2009-10-15  513.50  513.63  496.50  505.38\n",
       "2271  2009-10-14  512.88  528.50  505.13  513.50\n",
       "\n",
       "[2272 rows x 5 columns]"
      ]
     },
     "execution_count": 3,
     "metadata": {},
     "output_type": "execute_result"
    }
   ],
   "source": [
    "df = pd.read_csv(\"Daily_wheat_price.csv\")\n",
    "df"
   ]
  },
  {
   "cell_type": "code",
   "execution_count": 3,
   "id": "a4bb2e6a",
   "metadata": {},
   "outputs": [],
   "source": [
    "features = ['open','high','low','close'] # x values\n",
    "x = df.drop(columns='date',axis=1)\n",
    "y = df[\"date\"]"
   ]
  },
  {
   "cell_type": "code",
   "execution_count": 4,
   "id": "63518ac9",
   "metadata": {},
   "outputs": [
    {
     "data": {
      "text/plain": [
       "array([[-0.77527378, -0.78704769, -0.7731021 , -0.76188928],\n",
       "       [-0.69584588, -0.73971665, -0.75056379, -0.7600405 ],\n",
       "       [-0.708776  , -0.71605113, -0.71863451, -0.69348452],\n",
       "       ...,\n",
       "       [-0.6505535 , -0.68597771, -0.67821581, -0.70457718],\n",
       "       [-0.59055772, -0.63500581, -0.6716797 , -0.6481525 ],\n",
       "       [-0.59513868, -0.52672694, -0.60684449, -0.58810422]])"
      ]
     },
     "execution_count": 4,
     "metadata": {},
     "output_type": "execute_result"
    }
   ],
   "source": [
    "x = StandardScaler(). fit_transform(x)\n",
    "x"
   ]
  },
  {
   "cell_type": "code",
   "execution_count": 5,
   "id": "57ee25e5",
   "metadata": {},
   "outputs": [
    {
     "data": {
      "text/html": [
       "<div>\n",
       "<style scoped>\n",
       "    .dataframe tbody tr th:only-of-type {\n",
       "        vertical-align: middle;\n",
       "    }\n",
       "\n",
       "    .dataframe tbody tr th {\n",
       "        vertical-align: top;\n",
       "    }\n",
       "\n",
       "    .dataframe thead th {\n",
       "        text-align: right;\n",
       "    }\n",
       "</style>\n",
       "<table border=\"1\" class=\"dataframe\">\n",
       "  <thead>\n",
       "    <tr style=\"text-align: right;\">\n",
       "      <th></th>\n",
       "      <th>open</th>\n",
       "      <th>high</th>\n",
       "      <th>low</th>\n",
       "      <th>close</th>\n",
       "    </tr>\n",
       "  </thead>\n",
       "  <tbody>\n",
       "    <tr>\n",
       "      <th>0</th>\n",
       "      <td>-0.775274</td>\n",
       "      <td>-0.787048</td>\n",
       "      <td>-0.773102</td>\n",
       "      <td>-0.761889</td>\n",
       "    </tr>\n",
       "    <tr>\n",
       "      <th>1</th>\n",
       "      <td>-0.695846</td>\n",
       "      <td>-0.739717</td>\n",
       "      <td>-0.750564</td>\n",
       "      <td>-0.760040</td>\n",
       "    </tr>\n",
       "    <tr>\n",
       "      <th>2</th>\n",
       "      <td>-0.708776</td>\n",
       "      <td>-0.716051</td>\n",
       "      <td>-0.718635</td>\n",
       "      <td>-0.693485</td>\n",
       "    </tr>\n",
       "    <tr>\n",
       "      <th>3</th>\n",
       "      <td>-0.645973</td>\n",
       "      <td>-0.663259</td>\n",
       "      <td>-0.675436</td>\n",
       "      <td>-0.706426</td>\n",
       "    </tr>\n",
       "    <tr>\n",
       "      <th>4</th>\n",
       "      <td>-0.638584</td>\n",
       "      <td>-0.679643</td>\n",
       "      <td>-0.679192</td>\n",
       "      <td>-0.643568</td>\n",
       "    </tr>\n",
       "  </tbody>\n",
       "</table>\n",
       "</div>"
      ],
      "text/plain": [
       "       open      high       low     close\n",
       "0 -0.775274 -0.787048 -0.773102 -0.761889\n",
       "1 -0.695846 -0.739717 -0.750564 -0.760040\n",
       "2 -0.708776 -0.716051 -0.718635 -0.693485\n",
       "3 -0.645973 -0.663259 -0.675436 -0.706426\n",
       "4 -0.638584 -0.679643 -0.679192 -0.643568"
      ]
     },
     "execution_count": 5,
     "metadata": {},
     "output_type": "execute_result"
    }
   ],
   "source": [
    "x = StandardScaler(). fit_transform(x)\n",
    "df2 = pd.DataFrame(data = x, columns=features)\n",
    "df2.head()"
   ]
  },
  {
   "cell_type": "code",
   "execution_count": 7,
   "id": "606f075c",
   "metadata": {},
   "outputs": [
    {
     "data": {
      "text/plain": [
       "array([[-1.54865813,  0.00922742, -0.00977862,  0.01152612],\n",
       "       [-1.4730873 , -0.04586002,  0.00748269,  0.0156349 ],\n",
       "       [-1.41847554,  0.01037811,  0.00192871,  0.01626972],\n",
       "       ...,\n",
       "       [-1.35966372, -0.03824773, -0.00567306,  0.00323516],\n",
       "       [-1.27270445, -0.04177021,  0.02581461,  0.03253187],\n",
       "       [-1.15840278,  0.00541825,  0.05660979, -0.02504185]])"
      ]
     },
     "execution_count": 7,
     "metadata": {},
     "output_type": "execute_result"
    }
   ],
   "source": [
    "pca = PCA()\n",
    "sy = pca.fit_transform(x)\n",
    "sy"
   ]
  },
  {
   "cell_type": "code",
   "execution_count": 8,
   "id": "583662c2",
   "metadata": {},
   "outputs": [],
   "source": [
    "pca = PCA(n_components=4)\n",
    "principalComponents = pca.fit_transform(x)"
   ]
  },
  {
   "cell_type": "code",
   "execution_count": 9,
   "id": "56b582d5",
   "metadata": {},
   "outputs": [],
   "source": [
    "principleDf = pd.DataFrame(data=principalComponents, columns= ['principal component 1', 'principal component 2', 'principal component 3', 'principal component 4'])\n"
   ]
  },
  {
   "cell_type": "code",
   "execution_count": 10,
   "id": "aeef4cec",
   "metadata": {},
   "outputs": [
    {
     "data": {
      "text/html": [
       "<div>\n",
       "<style scoped>\n",
       "    .dataframe tbody tr th:only-of-type {\n",
       "        vertical-align: middle;\n",
       "    }\n",
       "\n",
       "    .dataframe tbody tr th {\n",
       "        vertical-align: top;\n",
       "    }\n",
       "\n",
       "    .dataframe thead th {\n",
       "        text-align: right;\n",
       "    }\n",
       "</style>\n",
       "<table border=\"1\" class=\"dataframe\">\n",
       "  <thead>\n",
       "    <tr style=\"text-align: right;\">\n",
       "      <th></th>\n",
       "      <th>principal component 1</th>\n",
       "      <th>principal component 2</th>\n",
       "      <th>principal component 3</th>\n",
       "      <th>principal component 4</th>\n",
       "    </tr>\n",
       "  </thead>\n",
       "  <tbody>\n",
       "    <tr>\n",
       "      <th>0</th>\n",
       "      <td>-1.548658</td>\n",
       "      <td>0.009227</td>\n",
       "      <td>-0.009779</td>\n",
       "      <td>0.011526</td>\n",
       "    </tr>\n",
       "    <tr>\n",
       "      <th>1</th>\n",
       "      <td>-1.473087</td>\n",
       "      <td>-0.045860</td>\n",
       "      <td>0.007483</td>\n",
       "      <td>0.015635</td>\n",
       "    </tr>\n",
       "    <tr>\n",
       "      <th>2</th>\n",
       "      <td>-1.418476</td>\n",
       "      <td>0.010378</td>\n",
       "      <td>0.001929</td>\n",
       "      <td>0.016270</td>\n",
       "    </tr>\n",
       "    <tr>\n",
       "      <th>3</th>\n",
       "      <td>-1.345546</td>\n",
       "      <td>-0.042542</td>\n",
       "      <td>0.008371</td>\n",
       "      <td>-0.008311</td>\n",
       "    </tr>\n",
       "    <tr>\n",
       "      <th>4</th>\n",
       "      <td>-1.320500</td>\n",
       "      <td>-0.004572</td>\n",
       "      <td>-0.000230</td>\n",
       "      <td>0.038006</td>\n",
       "    </tr>\n",
       "    <tr>\n",
       "      <th>5</th>\n",
       "      <td>-1.304958</td>\n",
       "      <td>-0.003267</td>\n",
       "      <td>0.015257</td>\n",
       "      <td>0.035398</td>\n",
       "    </tr>\n",
       "    <tr>\n",
       "      <th>6</th>\n",
       "      <td>-1.281534</td>\n",
       "      <td>-0.087827</td>\n",
       "      <td>0.067859</td>\n",
       "      <td>0.011223</td>\n",
       "    </tr>\n",
       "    <tr>\n",
       "      <th>7</th>\n",
       "      <td>-1.311222</td>\n",
       "      <td>0.107897</td>\n",
       "      <td>0.084947</td>\n",
       "      <td>0.020667</td>\n",
       "    </tr>\n",
       "    <tr>\n",
       "      <th>8</th>\n",
       "      <td>-1.579886</td>\n",
       "      <td>0.080282</td>\n",
       "      <td>0.059786</td>\n",
       "      <td>-0.018220</td>\n",
       "    </tr>\n",
       "    <tr>\n",
       "      <th>9</th>\n",
       "      <td>-1.735113</td>\n",
       "      <td>0.021454</td>\n",
       "      <td>-0.030089</td>\n",
       "      <td>-0.003072</td>\n",
       "    </tr>\n",
       "  </tbody>\n",
       "</table>\n",
       "</div>"
      ],
      "text/plain": [
       "   principal component 1  principal component 2  principal component 3  \\\n",
       "0              -1.548658               0.009227              -0.009779   \n",
       "1              -1.473087              -0.045860               0.007483   \n",
       "2              -1.418476               0.010378               0.001929   \n",
       "3              -1.345546              -0.042542               0.008371   \n",
       "4              -1.320500              -0.004572              -0.000230   \n",
       "5              -1.304958              -0.003267               0.015257   \n",
       "6              -1.281534              -0.087827               0.067859   \n",
       "7              -1.311222               0.107897               0.084947   \n",
       "8              -1.579886               0.080282               0.059786   \n",
       "9              -1.735113               0.021454              -0.030089   \n",
       "\n",
       "   principal component 4  \n",
       "0               0.011526  \n",
       "1               0.015635  \n",
       "2               0.016270  \n",
       "3              -0.008311  \n",
       "4               0.038006  \n",
       "5               0.035398  \n",
       "6               0.011223  \n",
       "7               0.020667  \n",
       "8              -0.018220  \n",
       "9              -0.003072  "
      ]
     },
     "execution_count": 10,
     "metadata": {},
     "output_type": "execute_result"
    }
   ],
   "source": [
    "principleDf.head(10)"
   ]
  },
  {
   "cell_type": "code",
   "execution_count": 11,
   "id": "4aa39f78",
   "metadata": {},
   "outputs": [
    {
     "data": {
      "text/plain": [
       "Text(0, 0.5, 'y1')"
      ]
     },
     "execution_count": 11,
     "metadata": {},
     "output_type": "execute_result"
    },
    {
     "data": {
      "image/png": "[encoded data removed]",
      "text/plain": [
       "<Figure size 640x480 with 1 Axes>"
      ]
     },
     "metadata": {},
     "output_type": "display_data"
    }
   ],
   "source": [
    "plt.subplot(121)\n",
    "plt.scatter(x[:,0], x[:,1])\n",
    "plt.xlabel('x1')\n",
    "plt.ylabel('y1')"
   ]
  },
  {
   "cell_type": "markdown",
   "id": "76c455aa",
   "metadata": {},
   "source": [
    "# HIERARCHICAL CLUSTERING"
   ]
  },
  {
   "cell_type": "code",
   "execution_count": 4,
   "id": "f60def65",
   "metadata": {},
   "outputs": [],
   "source": [
    "import pandas as pd\n",
    "import numpy as np\n",
    "import matplotlib.pyplot as plt\n",
    "%matplotlib inline\n",
    "from sklearn.preprocessing import normalize"
   ]
  },
  {
   "cell_type": "code",
   "execution_count": 5,
   "id": "2789f7b3",
   "metadata": {},
   "outputs": [
    {
     "data": {
      "text/html": [
       "<div>\n",
       "<style scoped>\n",
       "    .dataframe tbody tr th:only-of-type {\n",
       "        vertical-align: middle;\n",
       "    }\n",
       "\n",
       "    .dataframe tbody tr th {\n",
       "        vertical-align: top;\n",
       "    }\n",
       "\n",
       "    .dataframe thead th {\n",
       "        text-align: right;\n",
       "    }\n",
       "</style>\n",
       "<table border=\"1\" class=\"dataframe\">\n",
       "  <thead>\n",
       "    <tr style=\"text-align: right;\">\n",
       "      <th></th>\n",
       "      <th>date</th>\n",
       "      <th>open</th>\n",
       "      <th>high</th>\n",
       "      <th>low</th>\n",
       "      <th>close</th>\n",
       "    </tr>\n",
       "  </thead>\n",
       "  <tbody>\n",
       "    <tr>\n",
       "      <th>0</th>\n",
       "      <td>2018-03-12</td>\n",
       "      <td>488.50</td>\n",
       "      <td>492.75</td>\n",
       "      <td>483.00</td>\n",
       "      <td>490.00</td>\n",
       "    </tr>\n",
       "    <tr>\n",
       "      <th>1</th>\n",
       "      <td>2018-03-09</td>\n",
       "      <td>499.25</td>\n",
       "      <td>499.25</td>\n",
       "      <td>486.00</td>\n",
       "      <td>490.25</td>\n",
       "    </tr>\n",
       "    <tr>\n",
       "      <th>2</th>\n",
       "      <td>2018-03-08</td>\n",
       "      <td>497.50</td>\n",
       "      <td>502.50</td>\n",
       "      <td>490.25</td>\n",
       "      <td>499.25</td>\n",
       "    </tr>\n",
       "    <tr>\n",
       "      <th>3</th>\n",
       "      <td>2018-03-07</td>\n",
       "      <td>506.00</td>\n",
       "      <td>509.75</td>\n",
       "      <td>496.00</td>\n",
       "      <td>497.50</td>\n",
       "    </tr>\n",
       "    <tr>\n",
       "      <th>4</th>\n",
       "      <td>2018-03-06</td>\n",
       "      <td>507.00</td>\n",
       "      <td>507.50</td>\n",
       "      <td>495.50</td>\n",
       "      <td>506.00</td>\n",
       "    </tr>\n",
       "  </tbody>\n",
       "</table>\n",
       "</div>"
      ],
      "text/plain": [
       "         date    open    high     low   close\n",
       "0  2018-03-12  488.50  492.75  483.00  490.00\n",
       "1  2018-03-09  499.25  499.25  486.00  490.25\n",
       "2  2018-03-08  497.50  502.50  490.25  499.25\n",
       "3  2018-03-07  506.00  509.75  496.00  497.50\n",
       "4  2018-03-06  507.00  507.50  495.50  506.00"
      ]
     },
     "execution_count": 5,
     "metadata": {},
     "output_type": "execute_result"
    }
   ],
   "source": [
    "data = pd.read_csv('Daily_wheat_price.csv')\n",
    "data.head()"
   ]
  },
  {
   "cell_type": "code",
   "execution_count": 6,
   "id": "637cb24a",
   "metadata": {},
   "outputs": [],
   "source": [
    "x = data.drop(columns='date',axis=1)\n"
   ]
  },
  {
   "cell_type": "code",
   "execution_count": 7,
   "id": "03edb52e",
   "metadata": {},
   "outputs": [
    {
     "data": {
      "text/html": [
       "<div>\n",
       "<style scoped>\n",
       "    .dataframe tbody tr th:only-of-type {\n",
       "        vertical-align: middle;\n",
       "    }\n",
       "\n",
       "    .dataframe tbody tr th {\n",
       "        vertical-align: top;\n",
       "    }\n",
       "\n",
       "    .dataframe thead th {\n",
       "        text-align: right;\n",
       "    }\n",
       "</style>\n",
       "<table border=\"1\" class=\"dataframe\">\n",
       "  <thead>\n",
       "    <tr style=\"text-align: right;\">\n",
       "      <th></th>\n",
       "      <th>open</th>\n",
       "      <th>high</th>\n",
       "      <th>low</th>\n",
       "      <th>close</th>\n",
       "    </tr>\n",
       "  </thead>\n",
       "  <tbody>\n",
       "    <tr>\n",
       "      <th>0</th>\n",
       "      <td>488.50</td>\n",
       "      <td>492.75</td>\n",
       "      <td>483.00</td>\n",
       "      <td>490.00</td>\n",
       "    </tr>\n",
       "    <tr>\n",
       "      <th>1</th>\n",
       "      <td>499.25</td>\n",
       "      <td>499.25</td>\n",
       "      <td>486.00</td>\n",
       "      <td>490.25</td>\n",
       "    </tr>\n",
       "    <tr>\n",
       "      <th>2</th>\n",
       "      <td>497.50</td>\n",
       "      <td>502.50</td>\n",
       "      <td>490.25</td>\n",
       "      <td>499.25</td>\n",
       "    </tr>\n",
       "    <tr>\n",
       "      <th>3</th>\n",
       "      <td>506.00</td>\n",
       "      <td>509.75</td>\n",
       "      <td>496.00</td>\n",
       "      <td>497.50</td>\n",
       "    </tr>\n",
       "    <tr>\n",
       "      <th>4</th>\n",
       "      <td>507.00</td>\n",
       "      <td>507.50</td>\n",
       "      <td>495.50</td>\n",
       "      <td>506.00</td>\n",
       "    </tr>\n",
       "  </tbody>\n",
       "</table>\n",
       "</div>"
      ],
      "text/plain": [
       "     open    high     low   close\n",
       "0  488.50  492.75  483.00  490.00\n",
       "1  499.25  499.25  486.00  490.25\n",
       "2  497.50  502.50  490.25  499.25\n",
       "3  506.00  509.75  496.00  497.50\n",
       "4  507.00  507.50  495.50  506.00"
      ]
     },
     "execution_count": 7,
     "metadata": {},
     "output_type": "execute_result"
    }
   ],
   "source": [
    "data=x\n",
    "data_scaled = data\n",
    "data_scaled = pd.DataFrame(data_scaled, columns=data.columns)\n",
    "data_scaled.head()"
   ]
  },
  {
   "cell_type": "code",
   "execution_count": 8,
   "id": "c97d9f5c",
   "metadata": {},
   "outputs": [
    {
     "data": {
      "image/png": "[encoded data removed]",
      "text/plain": [
       "<Figure size 1000x700 with 1 Axes>"
      ]
     },
     "metadata": {},
     "output_type": "display_data"
    }
   ],
   "source": [
    "import scipy.cluster.hierarchy as shc\n",
    "plt.figure(figsize=(10, 7))  \n",
    "plt.title(\"Dendrograms\")  \n",
    "dend = shc.dendrogram(shc.linkage(data_scaled, method = 'complete'))"
   ]
  },
  {
   "cell_type": "code",
   "execution_count": 9,
   "id": "54a0e8e4",
   "metadata": {},
   "outputs": [
    {
     "data": {
      "text/plain": [
       "array([1, 1, 1, ..., 1, 1, 1], dtype=int64)"
      ]
     },
     "execution_count": 9,
     "metadata": {},
     "output_type": "execute_result"
    }
   ],
   "source": [
    "from sklearn.cluster import AgglomerativeClustering\n",
    "cluster = AgglomerativeClustering(n_clusters= 2, affinity='euclidean', linkage='complete')  \n",
    "cluster.fit_predict(data_scaled)"
   ]
  },
  {
   "cell_type": "code",
   "execution_count": 10,
   "id": "0f09695b",
   "metadata": {},
   "outputs": [
    {
     "data": {
      "text/plain": [
       "<matplotlib.collections.PathCollection at 0x1f6ba3f1400>"
      ]
     },
     "execution_count": 10,
     "metadata": {},
     "output_type": "execute_result"
    },
    {
     "data": {
      "image/png": "[encoded data removed]",
      "text/plain": [
       "<Figure size 1000x700 with 1 Axes>"
      ]
     },
     "metadata": {},
     "output_type": "display_data"
    }
   ],
   "source": [
    "plt.figure(figsize=(10, 7))  \n",
    "plt.scatter(data_scaled['high'],data_scaled['low'], c=cluster.labels_)"
   ]
  },
  {
   "cell_type": "code",
   "execution_count": null,
   "id": "962a201d",
   "metadata": {},
   "outputs": [],
   "source": []
  }
 ],
 "metadata": {
  "kernelspec": {
   "display_name": "Python 3 (ipykernel)",
   "language": "python",
   "name": "python3"
  },
  "language_info": {
   "codemirror_mode": {
    "name": "ipython",
    "version": 3
   },
   "file_extension": ".py",
   "mimetype": "text/x-python",
   "name": "python",
   "nbconvert_exporter": "python",
   "pygments_lexer": "ipython3",
   "version": "3.9.13"
  }
 },
 "nbformat": 4,
 "nbformat_minor": 5
}
